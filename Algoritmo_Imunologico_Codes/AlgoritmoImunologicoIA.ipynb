{
 "cells": [
  {
   "cell_type": "code",
   "execution_count": 1,
   "metadata": {},
   "outputs": [],
   "source": [
    "from random import *\n",
    "import math\n",
    "import matplotlib.pyplot\n",
    "\n",
    "populacao = []\n",
    "TAM = 100\n",
    "i = 0\n",
    "num_geracoes = 500\n",
    "taxa_mutacao = 30\n",
    "maiores = []\n",
    "menores = []\n",
    "media_ger = []"
   ]
  },
  {
   "cell_type": "code",
   "execution_count": 2,
   "metadata": {},
   "outputs": [
    {
     "name": "stdout",
     "output_type": "stream",
     "text": [
      "[7.257272699356698, 9.400011076316408, 0] [6.688689405744439, 6.432817562750581, 0]\n",
      "....\n",
      "[3.3643657194954835, 2.7376351073457195, 0]\n"
     ]
    }
   ],
   "source": [
    "#-----------Cria a populacao------------------\n",
    "while(i<TAM):\n",
    "    v = [uniform(0,10),uniform(0,10),0]\n",
    "    populacao = populacao + [v]\n",
    "    i = i+1\n",
    "print(populacao[0],populacao[1])\n",
    "print(\"....\")\n",
    "print(populacao[TAM-1])"
   ]
  },
  {
   "cell_type": "code",
   "execution_count": 3,
   "metadata": {
    "jupyter": {
     "source_hidden": true
    }
   },
   "outputs": [],
   "source": [
    "#-------------Funcao de clonagem---------------------\n",
    "def clonar(populacao):\n",
    "        clonados = []\n",
    "        for v in populacao:\n",
    "            clonados = clonados + [v,v,v,v,v]\n",
    "        return clonados\n",
    "#--------------Funcoes para aptidao--------------\n",
    "def Alpine(x1, x2):\n",
    "        return (x1 ** (1 / 2) * math.sin(x1)) * (x2 ** (1 / 2) * math.sin(x2))\n",
    "def funcaoObjetivo(populacao):\n",
    "        sum = 0\n",
    "        for vetor in populacao:\n",
    "            vetor[2] = Alpine(vetor[0], vetor[1]) + 7\n",
    "            sum = sum + vetor[2]\n",
    "        return sum\n",
    "#--------------Funcoes para selecao------------------\n",
    "def obterMaior(populacao):\n",
    "        maior = populacao[0]\n",
    "        for v in populacao:\n",
    "            if (v[2] > maior[2]):\n",
    "                maior = v\n",
    "        return maior\n",
    "def selecionar(populacao):\n",
    "        selecionados = []\n",
    "        i = 0\n",
    "        while i < len(populacao):\n",
    "            v = [populacao[i]]+[populacao[i+1]]+[populacao[i+2]]+[populacao[i+3]]+[populacao[i+4]]\n",
    "            v = obterMaior(v)\n",
    "            selecionados = selecionados + [v]\n",
    "            i = i + 5\n",
    "        return selecionados\n",
    "#-----------------Estudo da populacao-------------\n",
    "#--- def obterMaior(populacao):\n",
    "#              ....\n",
    "def obterMenor(populacao):\n",
    "        menor = populacao[0]\n",
    "        for v in populacao:\n",
    "            if (v[2] < menor[2]):\n",
    "                menor = v\n",
    "        return menor\n",
    "#---------------Mutacao-----------------------------\n",
    "def mutar(populacao):\n",
    "        mutados = []\n",
    "        for v in populacao:\n",
    "            libera = uniform(0,100)\n",
    "            if(libera < taxa_mutacao):\n",
    "                valor = uniform(-1,1)\n",
    "                if(v[0] + valor >=0 and v[0] + valor <=10  ):\n",
    "                    v[0] = v[0]+valor\n",
    "            libera = uniform(0, 100)\n",
    "            if (libera < taxa_mutacao):\n",
    "                valor = uniform(-1, 1)\n",
    "                if (v[1] + valor >= 0 and v[1] + valor <=10):\n",
    "                    v[1] = v[1] + valor\n",
    "            mutados = mutados+ [[v[0],v[1],0]]\n",
    "        return mutados"
   ]
  },
  {
   "cell_type": "code",
   "execution_count": 4,
   "metadata": {},
   "outputs": [],
   "source": [
    "l = 0\n",
    "while l<= num_geracoes:\n",
    "    #------------Clonagem--------------------------\n",
    "    populacao = clonar(populacao)\n",
    "    # --------------Descobre Aptidao---------------------\n",
    "    funcaoObjetivo(populacao)\n",
    "    #---------------Mutacao-----------------------------\n",
    "    populacao = mutar(populacao)\n",
    "    sum = funcaoObjetivo(populacao)\n",
    "    #---------------Selecionar--------------------------\n",
    "    populacao = selecionar(populacao)\n",
    "    sum = funcaoObjetivo(populacao)\n",
    "    #----------Estudo da populacao------------\n",
    "    maior = obterMaior(populacao)\n",
    "    menor = obterMenor(populacao)\n",
    "    media = sum / TAM\n",
    "    maiores.append(maior[2])\n",
    "    menores.append(menor[2])\n",
    "    media_ger.append(media)\n",
    "\n",
    "    l = l+1"
   ]
  },
  {
   "cell_type": "code",
   "execution_count": 5,
   "metadata": {},
   "outputs": [
    {
     "data": {
      "image/png": "[encoded data removed]",
      "text/plain": [
       "<Figure size 432x288 with 1 Axes>"
      ]
     },
     "metadata": {
      "needs_background": "light"
     },
     "output_type": "display_data"
    },
    {
     "name": "stdout",
     "output_type": "stream",
     "text": [
      "[7.913498311678374, 7.855413829514993, 14.870434428747227]\n"
     ]
    }
   ],
   "source": [
    "geracoes =[]\n",
    "for v in range(0,num_geracoes+1):\n",
    "    geracoes = geracoes +[v]\n",
    "\n",
    "matplotlib.pyplot.plot(geracoes,maiores)\n",
    "matplotlib.pyplot.plot(geracoes,menores)\n",
    "matplotlib.pyplot.plot(geracoes,media_ger)\n",
    "matplotlib.pyplot.show()\n",
    "print(maior)"
   ]
  },
  {
   "cell_type": "code",
   "execution_count": null,
   "metadata": {},
   "outputs": [],
   "source": []
  }
 ],
 "metadata": {
  "kernelspec": {
   "display_name": "Python 3",
   "language": "python",
   "name": "python3"
  },
  "language_info": {
   "codemirror_mode": {
    "name": "ipython",
    "version": 3
   },
   "file_extension": ".py",
   "mimetype": "text/x-python",
   "name": "python",
   "nbconvert_exporter": "python",
   "pygments_lexer": "ipython3",
   "version": "3.6.3"
  }
 },
 "nbformat": 4,
 "nbformat_minor": 4
}
